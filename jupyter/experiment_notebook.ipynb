{
 "cells": [
  {
   "cell_type": "markdown",
   "metadata": {
    "pycharm": {
     "name": "#%% md\n"
    }
   },
   "source": [
    "# Getting started\n",
    "\n",
    "First, we enable the cluster to scale up. Note that if you run an auto-scaling cluster,\n",
    "Google will suspend your nodes. Make sure to have the experiment prepared before running the commands.\n",
    "\n",
    "The following is assumed ready:\n",
    "* GKE/Kubernetes cluster (see also `terraform/terraform_notebook.ipynb`)\n",
    "    * 2 nodes pools (default for system & dependencies, experiment pool)\n",
    "* Docker image (including dataset, to speed-up starting experiments).\n",
    "    * Within a bash shell\n",
    "        * Make sure to have the `requirements-cpu.txt` installed (or `requirements-gpu.txt (in a virtual venv/conda environment). You can run `pip3 install -r requirements-cpu.txt`\n",
    "    * First run the extractor (locally) `python3 -m fltk extractor configs/example_cloud_experiment.json`\n",
    "        *  This downloads datasets to be included in the docker image.\n",
    "    * Build the container `DOCKER_BUILDKIT=1 docker build --platform linux/amd64 . --tag gcr.io/$PROJECT_ID/fltk`\n",
    "    * Push to your gcr.io repository `docker push gcr.io/$PROJECT_ID/fltk`\n",
    "\n",
    "\n",
    "With that setup, first set some variables used throughout the experiment.\n"
   ]
  },
  {
   "cell_type": "code",
   "execution_count": 10,
   "metadata": {
    "pycharm": {
     "name": "#%%\n"
    }
   },
   "outputs": [
    {
     "name": "stdout",
     "output_type": "stream",
     "text": [
      "Fetching cluster endpoint and auth data.\n",
      "kubeconfig entry generated for fltk-testbed-cluster.\n"
     ]
    }
   ],
   "source": [
    "##################\n",
    "### CHANGE ME! ###\n",
    "##################\n",
    "PROJECT_ID=\"fltk-flint\"\n",
    "CLUSTER_NAME=\"fltk-testbed-cluster\"\n",
    "DEFAULT_POOL=\"default-node-pool\"\n",
    "EXPERIMENT_POOL=\"medium-fltk-pool-1\"\n",
    "REGION=\"us-central1-c\"\n",
    "\n",
    "# In case we do not yet have the credentials/kubeconfig\n",
    "gcloud container clusters get-credentials $CLUSTER_NAME --region $REGION --project $PROJECT_ID"
   ]
  },
  {
   "cell_type": "markdown",
   "metadata": {
    "pycharm": {
     "name": "#%% md\n"
    }
   },
   "source": [
    "Scale the default-node-pool up."
   ]
  },
  {
   "cell_type": "code",
   "execution_count": null,
   "metadata": {
    "pycharm": {
     "name": "#%%\n"
    }
   },
   "outputs": [],
   "source": [
    "# These commands might take a while to complete.\n",
    "gcloud container clusters resize $CLUSTER_NAME --node-pool $DEFAULT_POOL \\\n",
    "     --num-nodes 1 --region $REGION --quiet"
   ]
  },
  {
   "cell_type": "markdown",
   "metadata": {
    "pycharm": {
     "name": "#%% md\n"
    }
   },
   "source": [
    "## Preparation\n",
    "In case you have already tested something or ran another experiment, we have to remove the deployment of the Orchestrator. This will not delete any experiment data, as this persists on one of the ReadWriteMany PVCs.\n",
    "\n",
    "\n",
    "Currently, the Orchestrator is deployed using a `Deployment` definition, a future version will replace this with a `Deployment` definition, to make this step unnecessary. For experiments this means the following:\n",
    "\n",
    "1. A single deployment can exist at a single time in a single namespace. This includes 'completed' experiments.\n",
    "2. For running batches of experiments, a BatchOrchestrator is provided.\n",
    "\n",
    "\n",
    "ℹ️ This will not remove any data, but if your orchestrator is still/already running experiments, this will stop the deployment. Running training jobs will not be stopped, for this you can use `kubectl`. ConfigMaps created by the Orchestrator (to provide experiment configurations), will not be removed. See the commented code in the cell below."
   ]
  },
  {
   "cell_type": "code",
   "execution_count": null,
   "metadata": {
    "pycharm": {
     "name": "#%%\n"
    }
   },
   "outputs": [],
   "source": [
    "# If you want to delete all pytorch trainjobs, uncomment the command below.\n",
    "# kubectl delete pytorchjobs.kubeflow.org --all --namespace test\n",
    "\n",
    "# If you want to delete all existing configuration map objects in a namespace, run teh command below\n",
    "# kubectl delete configmaps --all --namespace test\n",
    "\n",
    "helm uninstall -n test flearner"
   ]
  },
  {
   "cell_type": "markdown",
   "metadata": {},
   "source": [
    "## Install extractor\n",
    "\n",
    "Deploy the TensorBoard service and persistent volumes, required for deployment of the orchestrator's chart."
   ]
  },
  {
   "cell_type": "code",
   "execution_count": 2,
   "metadata": {
    "scrolled": true
   },
   "outputs": [
    {
     "name": "stdout",
     "output_type": "stream",
     "text": [
      "W1010 15:27:40.226740   17542 gcp.go:120] WARNING: the gcp auth plugin is deprecated in v1.22+, unavailable in v1.25+; use gcloud instead.\n",
      "To learn more, consult https://cloud.google.com/blog/products/containers-kubernetes/kubectl-auth-changes-in-gke\n",
      "Release \"extractor\" has been upgraded. Happy Helming!\n",
      "NAME: extractor\n",
      "LAST DEPLOYED: Mon Oct 10 15:27:42 2022\n",
      "NAMESPACE: test\n",
      "STATUS: deployed\n",
      "REVISION: 2\n",
      "TEST SUITE: None\n",
      "NOTES:\n",
      "Get the FLTK extractors Tensorboard URL by running:\n",
      "\n",
      "export POD_NAME=$(kubectl get pods -n test -l \"app.kubernetes.io/name=fltk.extractor\" -o jsonpath=\"{.items[0].metadata.name}\")\n",
      "echo http://localhost:6006/\n",
      "kubectl -n test port-forward $POD_NAME 6006:6006\n"
     ]
    }
   ],
   "source": [
    "helm upgrade --install -n test extractor ../charts/extractor -f ../charts/fltk-values.yaml \\\n",
    "    --set provider.projectName=$PROJECT_ID"
   ]
  },
  {
   "cell_type": "markdown",
   "metadata": {
    "pycharm": {
     "name": "#%% md\n"
    }
   },
   "source": [
    "## Define experiment configuration files\n",
    "\n",
    "Deployment of experiments is currently done through a Helm Deployment. A future release (™️) will rework this to a Job definition, as this allows to re-use the template more easily.\n",
    "\n",
    "\n",
    "> The `EXPERIMENT_FILE` will contain the description of the experiments\n",
    "> The `CLUSTER_CONFIG` will contain shared configurations for logging, Orchestrator configuration and replication information."
   ]
  },
  {
   "cell_type": "code",
   "execution_count": 3,
   "metadata": {
    "pycharm": {
     "name": "#%%\n"
    }
   },
   "outputs": [],
   "source": [
    "EXPERIMENT_FILE=\"../configs/distributed_tasks/example_arrival_config.json\"\n",
    "CLUSTER_CONFIG=\"../configs/example_cloud_experiment.json\""
   ]
  },
  {
   "cell_type": "markdown",
   "metadata": {
    "pycharm": {
     "name": "#%% md\n"
    }
   },
   "source": [
    "## Setup experiment variables\n",
    "Next, we will deploy the experiments.\n",
    "\n",
    "\n",
    "We provide a configuration file, `charts/fltk-values.yaml`, in here change the values under the `provider` block. Change `projectName` to your Google Cloud Project ID.\n",
    "\n",
    "```yaml\n",
    "provider:\n",
    "    domain: gcr.io\n",
    "    projectName: CHANGE_ME!\n",
    "    imageName: fltk:latest\n",
    "```\n",
    "\n",
    "We use the `--set-file` flag for `helm`, as currently, Helm does not support using files outside of the chart root directory (in this case `charts/orchestrator`). Using `--set-file` we can dynamically provide these files. See also issue [here](https://github.com/helm/helm/issues/3276)\n"
   ]
  },
  {
   "cell_type": "code",
   "execution_count": 4,
   "metadata": {
    "pycharm": {
     "name": "#%%\n"
    }
   },
   "outputs": [
    {
     "name": "stdout",
     "output_type": "stream",
     "text": [
      "W1010 15:30:30.458714   17913 gcp.go:120] WARNING: the gcp auth plugin is deprecated in v1.22+, unavailable in v1.25+; use gcloud instead.\n",
      "To learn more, consult https://cloud.google.com/blog/products/containers-kubernetes/kubectl-auth-changes-in-gke\n",
      "Error: uninstall: Release not loaded: experiment-orchestrator: release: not found\n",
      "W1010 15:30:31.215955   17930 gcp.go:120] WARNING: the gcp auth plugin is deprecated in v1.22+, unavailable in v1.25+; use gcloud instead.\n",
      "To learn more, consult https://cloud.google.com/blog/products/containers-kubernetes/kubectl-auth-changes-in-gke\n",
      "NAME: experiment-orchestrator\n",
      "LAST DEPLOYED: Mon Oct 10 15:30:34 2022\n",
      "NAMESPACE: test\n",
      "STATUS: deployed\n",
      "REVISION: 1\n",
      "TEST SUITE: None\n",
      "NOTES:\n",
      "You successfully launched an experiment configuration on your cluster in test.\n",
      "\n",
      "N.B. Make sure to collect all data after completing your experiment!\n",
      "N.B. Re-installing the orchestrator WILL RESULT IN DELETION OF ALL TRAINJOBS and PODS!\n"
     ]
    }
   ],
   "source": [
    "helm uninstall -n test experiment-orchestrator\n",
    "helm install -n test experiment-orchestrator ../charts/orchestrator -f ../charts/fltk-values.yaml \\\n",
    "    --set-file orchestrator.experiment=$EXPERIMENT_FILE,orchestrator.configuration=$CLUSTER_CONFIG \\\n",
    "    --set provider.projectName=$PROJECT_ID"
   ]
  },
  {
   "cell_type": "code",
   "execution_count": 5,
   "metadata": {
    "pycharm": {
     "name": "#%%\n"
    }
   },
   "outputs": [
    {
     "name": "stdout",
     "output_type": "stream",
     "text": [
      "W1010 15:41:37.210663   17960 gcp.go:119] WARNING: the gcp auth plugin is deprecated in v1.22+, unavailable in v1.26+; use gcloud instead.\n",
      "To learn more, consult https://cloud.google.com/blog/products/containers-kubernetes/kubectl-auth-changes-in-gke\n",
      "10-10-2022 13:30:39 root         INFO     Loading file config/configuration.fltk.json\n",
      "No argument path is provided.\n",
      "10-10-2022 13:30:39 root         INFO     Starting in cluster mode.\n",
      "10-10-2022 13:30:39 root         INFO     Starting with experiment replication: 0 with seed: 42\n",
      "10-10-2022 13:30:39 root         INFO     Starting as Orchestrator\n",
      "10-10-2022 13:30:39 root         INFO     Starting Orchestrator, initializing resources....\n",
      "10-10-2022 13:30:39 root         INFO     Loading in cluster configuration file\n",
      "10-10-2022 13:30:39 root         INFO     Pointing configuration to in cluster configuration.\n",
      "10-10-2022 13:30:39 root         INFO     Starting cluster manager\n",
      "10-10-2022 13:30:39 ClusterManager INFO     Spinning up cluster manager...\n",
      "10-10-2022 13:30:39 ResourceWatchDog INFO     Starting resource watchdog\n",
      "10-10-2022 13:30:39 root         INFO     Starting arrival generator\n",
      "10-10-2022 13:30:39 ResourceWatchDog INFO     Fetching node information of cluster...\n",
      "10-10-2022 13:30:39 root         INFO     Starting orchestrator\n",
      "10-10-2022 13:30:39 SequentialArrivalGenerator INFO     Starting execution of arrival generator.\n",
      "10-10-2022 13:30:39 SequentialArrivalGenerator INFO     (Sequentially) generate experiment: train_job_0_0_42\n",
      "10-10-2022 13:30:39 Orchestrator INFO     Starting experiment Orchestrator: 0\n",
      "10-10-2022 13:30:39 Orchestrator INFO     Scheduling arrival of Arrival: bbf0f3e8-4512-4d0e-98c1-a7630da04f50\n",
      "10-10-2022 13:30:39 ResourceWatchDog INFO     Starting with watching resources\n",
      "10-10-2022 13:30:39 Orchestrator INFO     Deploying on cluster: bbf0f3e8-4512-4d0e-98c1-a7630da04f50\n",
      "10-10-2022 13:30:39 root         INFO     Waiting for bbf0f3e8-4512-4d0e-98c1-a7630da04f50 to complete, 0 pending, 0 arrivals\n",
      "10-10-2022 13:30:44 root         INFO     Waiting for bbf0f3e8-4512-4d0e-98c1-a7630da04f50 to complete, 0 pending, 0 arrivals\n",
      "10-10-2022 13:30:49 ResourceWatchDog INFO     Fetching pod information of cluster...\n",
      "10-10-2022 13:30:49 root         INFO     Waiting for bbf0f3e8-4512-4d0e-98c1-a7630da04f50 to complete, 0 pending, 0 arrivals\n",
      "10-10-2022 13:30:54 root         INFO     Waiting for bbf0f3e8-4512-4d0e-98c1-a7630da04f50 to complete, 0 pending, 0 arrivals\n",
      "10-10-2022 13:30:59 ResourceWatchDog INFO     Fetching pod information of cluster...\n",
      "10-10-2022 13:30:59 root         INFO     Waiting for bbf0f3e8-4512-4d0e-98c1-a7630da04f50 to complete, 0 pending, 0 arrivals\n",
      "10-10-2022 13:31:04 root         INFO     Waiting for bbf0f3e8-4512-4d0e-98c1-a7630da04f50 to complete, 0 pending, 0 arrivals\n",
      "10-10-2022 13:31:09 root         INFO     Waiting for bbf0f3e8-4512-4d0e-98c1-a7630da04f50 to complete, 0 pending, 0 arrivals\n",
      "10-10-2022 13:31:09 ResourceWatchDog INFO     Fetching pod information of cluster...\n",
      "10-10-2022 13:31:14 root         INFO     Waiting for bbf0f3e8-4512-4d0e-98c1-a7630da04f50 to complete, 0 pending, 0 arrivals\n",
      "10-10-2022 13:31:19 root         INFO     Waiting for bbf0f3e8-4512-4d0e-98c1-a7630da04f50 to complete, 0 pending, 0 arrivals\n",
      "10-10-2022 13:31:20 ResourceWatchDog INFO     Fetching pod information of cluster...\n",
      "10-10-2022 13:31:24 root         INFO     Waiting for bbf0f3e8-4512-4d0e-98c1-a7630da04f50 to complete, 0 pending, 0 arrivals\n",
      "10-10-2022 13:31:29 root         INFO     Waiting for bbf0f3e8-4512-4d0e-98c1-a7630da04f50 to complete, 0 pending, 0 arrivals\n",
      "10-10-2022 13:31:30 ResourceWatchDog INFO     Fetching pod information of cluster...\n",
      "10-10-2022 13:31:34 root         INFO     Waiting for bbf0f3e8-4512-4d0e-98c1-a7630da04f50 to complete, 0 pending, 0 arrivals\n",
      "10-10-2022 13:31:39 root         INFO     Waiting for bbf0f3e8-4512-4d0e-98c1-a7630da04f50 to complete, 0 pending, 0 arrivals\n",
      "10-10-2022 13:31:40 ResourceWatchDog INFO     Fetching pod information of cluster...\n",
      "10-10-2022 13:31:40 ResourceWatchDog INFO     Fetching pod information of cluster...\n",
      "10-10-2022 13:31:44 root         INFO     Waiting for bbf0f3e8-4512-4d0e-98c1-a7630da04f50 to complete, 0 pending, 0 arrivals\n",
      "10-10-2022 13:31:50 root         INFO     Waiting for bbf0f3e8-4512-4d0e-98c1-a7630da04f50 to complete, 0 pending, 0 arrivals\n",
      "10-10-2022 13:31:50 ResourceWatchDog INFO     Fetching pod information of cluster...\n",
      "10-10-2022 13:31:55 root         INFO     Waiting for bbf0f3e8-4512-4d0e-98c1-a7630da04f50 to complete, 0 pending, 0 arrivals\n",
      "10-10-2022 13:32:00 root         INFO     Waiting for bbf0f3e8-4512-4d0e-98c1-a7630da04f50 to complete, 0 pending, 0 arrivals\n",
      "10-10-2022 13:32:00 ResourceWatchDog INFO     Fetching pod information of cluster...\n",
      "10-10-2022 13:32:05 root         INFO     Waiting for bbf0f3e8-4512-4d0e-98c1-a7630da04f50 to complete, 0 pending, 0 arrivals\n",
      "10-10-2022 13:32:10 root         INFO     Waiting for bbf0f3e8-4512-4d0e-98c1-a7630da04f50 to complete, 0 pending, 0 arrivals\n",
      "10-10-2022 13:32:10 ResourceWatchDog INFO     Fetching pod information of cluster...\n",
      "10-10-2022 13:32:15 root         INFO     Waiting for bbf0f3e8-4512-4d0e-98c1-a7630da04f50 to complete, 0 pending, 0 arrivals\n",
      "10-10-2022 13:32:20 root         INFO     Waiting for bbf0f3e8-4512-4d0e-98c1-a7630da04f50 to complete, 0 pending, 0 arrivals\n",
      "10-10-2022 13:32:21 ResourceWatchDog INFO     Fetching pod information of cluster...\n",
      "10-10-2022 13:32:25 root         INFO     Waiting for bbf0f3e8-4512-4d0e-98c1-a7630da04f50 to complete, 0 pending, 0 arrivals\n",
      "10-10-2022 13:32:30 root         INFO     Waiting for bbf0f3e8-4512-4d0e-98c1-a7630da04f50 to complete, 0 pending, 0 arrivals\n",
      "10-10-2022 13:32:31 ResourceWatchDog INFO     Fetching pod information of cluster...\n",
      "10-10-2022 13:32:35 root         INFO     Waiting for bbf0f3e8-4512-4d0e-98c1-a7630da04f50 to complete, 0 pending, 0 arrivals\n",
      "10-10-2022 13:32:40 root         INFO     Waiting for bbf0f3e8-4512-4d0e-98c1-a7630da04f50 to complete, 0 pending, 0 arrivals\n",
      "10-10-2022 13:32:41 ResourceWatchDog INFO     Fetching pod information of cluster...\n",
      "10-10-2022 13:32:41 ResourceWatchDog INFO     Fetching pod information of cluster...\n",
      "10-10-2022 13:32:45 root         INFO     Waiting for bbf0f3e8-4512-4d0e-98c1-a7630da04f50 to complete, 0 pending, 0 arrivals\n",
      "10-10-2022 13:32:50 root         INFO     Waiting for bbf0f3e8-4512-4d0e-98c1-a7630da04f50 to complete, 0 pending, 0 arrivals\n",
      "10-10-2022 13:32:51 ResourceWatchDog INFO     Fetching pod information of cluster...\n",
      "10-10-2022 13:32:55 root         INFO     Waiting for bbf0f3e8-4512-4d0e-98c1-a7630da04f50 to complete, 0 pending, 0 arrivals\n",
      "10-10-2022 13:33:00 root         INFO     Waiting for bbf0f3e8-4512-4d0e-98c1-a7630da04f50 to complete, 0 pending, 0 arrivals\n",
      "10-10-2022 13:33:01 ResourceWatchDog INFO     Fetching pod information of cluster...\n",
      "10-10-2022 13:33:05 root         INFO     Waiting for bbf0f3e8-4512-4d0e-98c1-a7630da04f50 to complete, 0 pending, 0 arrivals\n",
      "10-10-2022 13:33:10 root         INFO     Waiting for bbf0f3e8-4512-4d0e-98c1-a7630da04f50 to complete, 0 pending, 0 arrivals\n",
      "10-10-2022 13:33:12 ResourceWatchDog INFO     Fetching pod information of cluster...\n",
      "10-10-2022 13:33:15 root         INFO     Waiting for bbf0f3e8-4512-4d0e-98c1-a7630da04f50 to complete, 0 pending, 0 arrivals\n",
      "10-10-2022 13:33:20 root         INFO     Waiting for bbf0f3e8-4512-4d0e-98c1-a7630da04f50 to complete, 0 pending, 0 arrivals\n",
      "10-10-2022 13:33:22 ResourceWatchDog INFO     Fetching pod information of cluster...\n",
      "10-10-2022 13:33:25 root         INFO     Waiting for bbf0f3e8-4512-4d0e-98c1-a7630da04f50 to complete, 0 pending, 0 arrivals\n",
      "10-10-2022 13:33:30 root         INFO     Waiting for bbf0f3e8-4512-4d0e-98c1-a7630da04f50 to complete, 0 pending, 0 arrivals\n",
      "10-10-2022 13:33:32 ResourceWatchDog INFO     Fetching pod information of cluster...\n",
      "10-10-2022 13:33:35 root         INFO     Waiting for bbf0f3e8-4512-4d0e-98c1-a7630da04f50 to complete, 0 pending, 0 arrivals\n",
      "10-10-2022 13:33:40 root         INFO     Waiting for bbf0f3e8-4512-4d0e-98c1-a7630da04f50 to complete, 0 pending, 0 arrivals\n",
      "10-10-2022 13:33:42 ResourceWatchDog INFO     Fetching pod information of cluster...\n"
     ]
    },
    {
     "name": "stdout",
     "output_type": "stream",
     "text": [
      "10-10-2022 13:33:42 ResourceWatchDog INFO     Fetching pod information of cluster...\n",
      "10-10-2022 13:33:45 root         INFO     Waiting for bbf0f3e8-4512-4d0e-98c1-a7630da04f50 to complete, 0 pending, 0 arrivals\n",
      "10-10-2022 13:33:50 root         INFO     Waiting for bbf0f3e8-4512-4d0e-98c1-a7630da04f50 to complete, 0 pending, 0 arrivals\n",
      "10-10-2022 13:33:52 ResourceWatchDog INFO     Fetching pod information of cluster...\n",
      "10-10-2022 13:33:55 root         INFO     Waiting for bbf0f3e8-4512-4d0e-98c1-a7630da04f50 to complete, 0 pending, 0 arrivals\n",
      "10-10-2022 13:34:00 root         INFO     Waiting for bbf0f3e8-4512-4d0e-98c1-a7630da04f50 to complete, 0 pending, 0 arrivals\n",
      "10-10-2022 13:34:02 ResourceWatchDog INFO     Fetching pod information of cluster...\n",
      "10-10-2022 13:34:05 root         INFO     Waiting for bbf0f3e8-4512-4d0e-98c1-a7630da04f50 to complete, 0 pending, 0 arrivals\n",
      "10-10-2022 13:34:10 root         INFO     Waiting for bbf0f3e8-4512-4d0e-98c1-a7630da04f50 to complete, 0 pending, 0 arrivals\n",
      "10-10-2022 13:34:13 ResourceWatchDog INFO     Fetching pod information of cluster...\n",
      "10-10-2022 13:34:15 root         INFO     Waiting for bbf0f3e8-4512-4d0e-98c1-a7630da04f50 to complete, 0 pending, 0 arrivals\n",
      "10-10-2022 13:34:20 root         INFO     Waiting for bbf0f3e8-4512-4d0e-98c1-a7630da04f50 to complete, 0 pending, 0 arrivals\n",
      "10-10-2022 13:34:23 ResourceWatchDog INFO     Fetching pod information of cluster...\n",
      "10-10-2022 13:34:25 root         INFO     Waiting for bbf0f3e8-4512-4d0e-98c1-a7630da04f50 to complete, 0 pending, 0 arrivals\n",
      "10-10-2022 13:34:30 root         INFO     Waiting for bbf0f3e8-4512-4d0e-98c1-a7630da04f50 to complete, 0 pending, 0 arrivals\n",
      "10-10-2022 13:34:33 ResourceWatchDog INFO     Fetching pod information of cluster...\n",
      "10-10-2022 13:34:35 root         INFO     Waiting for bbf0f3e8-4512-4d0e-98c1-a7630da04f50 to complete, 0 pending, 0 arrivals\n",
      "10-10-2022 13:34:40 root         INFO     Waiting for bbf0f3e8-4512-4d0e-98c1-a7630da04f50 to complete, 0 pending, 0 arrivals\n",
      "10-10-2022 13:34:43 ResourceWatchDog INFO     Fetching pod information of cluster...\n",
      "10-10-2022 13:34:43 ResourceWatchDog INFO     Fetching pod information of cluster...\n",
      "10-10-2022 13:34:45 root         INFO     Waiting for bbf0f3e8-4512-4d0e-98c1-a7630da04f50 to complete, 0 pending, 0 arrivals\n",
      "10-10-2022 13:34:50 root         INFO     Waiting for bbf0f3e8-4512-4d0e-98c1-a7630da04f50 to complete, 0 pending, 0 arrivals\n",
      "10-10-2022 13:34:53 ResourceWatchDog INFO     Fetching pod information of cluster...\n",
      "10-10-2022 13:34:55 root         INFO     Waiting for bbf0f3e8-4512-4d0e-98c1-a7630da04f50 to complete, 0 pending, 0 arrivals\n",
      "10-10-2022 13:35:00 root         INFO     Waiting for bbf0f3e8-4512-4d0e-98c1-a7630da04f50 to complete, 0 pending, 0 arrivals\n",
      "10-10-2022 13:35:03 ResourceWatchDog INFO     Fetching pod information of cluster...\n",
      "10-10-2022 13:35:05 root         INFO     Waiting for bbf0f3e8-4512-4d0e-98c1-a7630da04f50 to complete, 0 pending, 0 arrivals\n",
      "10-10-2022 13:35:10 root         INFO     Waiting for bbf0f3e8-4512-4d0e-98c1-a7630da04f50 to complete, 0 pending, 0 arrivals\n",
      "10-10-2022 13:35:14 ResourceWatchDog INFO     Fetching pod information of cluster...\n",
      "10-10-2022 13:35:15 root         INFO     Waiting for bbf0f3e8-4512-4d0e-98c1-a7630da04f50 to complete, 0 pending, 0 arrivals\n",
      "10-10-2022 13:35:20 root         INFO     Waiting for bbf0f3e8-4512-4d0e-98c1-a7630da04f50 to complete, 0 pending, 0 arrivals\n",
      "10-10-2022 13:35:24 ResourceWatchDog INFO     Fetching pod information of cluster...\n",
      "10-10-2022 13:35:25 root         INFO     Waiting for bbf0f3e8-4512-4d0e-98c1-a7630da04f50 to complete, 0 pending, 0 arrivals\n",
      "10-10-2022 13:35:30 root         INFO     Waiting for bbf0f3e8-4512-4d0e-98c1-a7630da04f50 to complete, 0 pending, 0 arrivals\n",
      "10-10-2022 13:35:34 ResourceWatchDog INFO     Fetching pod information of cluster...\n",
      "10-10-2022 13:35:35 root         INFO     Waiting for bbf0f3e8-4512-4d0e-98c1-a7630da04f50 to complete, 0 pending, 0 arrivals\n",
      "10-10-2022 13:35:40 root         INFO     Waiting for bbf0f3e8-4512-4d0e-98c1-a7630da04f50 to complete, 0 pending, 0 arrivals\n",
      "10-10-2022 13:35:44 ResourceWatchDog INFO     Fetching pod information of cluster...\n",
      "10-10-2022 13:35:44 ResourceWatchDog INFO     Fetching pod information of cluster...\n",
      "10-10-2022 13:35:45 root         INFO     Waiting for bbf0f3e8-4512-4d0e-98c1-a7630da04f50 to complete, 0 pending, 0 arrivals\n",
      "10-10-2022 13:35:50 root         INFO     Waiting for bbf0f3e8-4512-4d0e-98c1-a7630da04f50 to complete, 0 pending, 0 arrivals\n",
      "10-10-2022 13:35:54 ResourceWatchDog INFO     Fetching pod information of cluster...\n",
      "10-10-2022 13:35:55 root         INFO     Waiting for bbf0f3e8-4512-4d0e-98c1-a7630da04f50 to complete, 0 pending, 0 arrivals\n",
      "10-10-2022 13:36:00 root         INFO     Waiting for bbf0f3e8-4512-4d0e-98c1-a7630da04f50 to complete, 0 pending, 0 arrivals\n",
      "10-10-2022 13:36:05 ResourceWatchDog INFO     Fetching pod information of cluster...\n",
      "10-10-2022 13:36:05 root         INFO     Waiting for bbf0f3e8-4512-4d0e-98c1-a7630da04f50 to complete, 0 pending, 0 arrivals\n",
      "10-10-2022 13:36:10 root         INFO     Waiting for bbf0f3e8-4512-4d0e-98c1-a7630da04f50 to complete, 0 pending, 0 arrivals\n",
      "10-10-2022 13:36:15 ResourceWatchDog INFO     Fetching pod information of cluster...\n",
      "10-10-2022 13:36:15 root         INFO     Waiting for bbf0f3e8-4512-4d0e-98c1-a7630da04f50 to complete, 0 pending, 0 arrivals\n",
      "10-10-2022 13:36:20 root         INFO     Waiting for bbf0f3e8-4512-4d0e-98c1-a7630da04f50 to complete, 0 pending, 0 arrivals\n",
      "10-10-2022 13:36:25 ResourceWatchDog INFO     Fetching pod information of cluster...\n",
      "10-10-2022 13:36:26 root         INFO     Waiting for bbf0f3e8-4512-4d0e-98c1-a7630da04f50 to complete, 0 pending, 0 arrivals\n",
      "10-10-2022 13:36:31 root         INFO     Waiting for bbf0f3e8-4512-4d0e-98c1-a7630da04f50 to complete, 0 pending, 0 arrivals\n",
      "10-10-2022 13:36:35 ResourceWatchDog INFO     Fetching pod information of cluster...\n",
      "10-10-2022 13:36:36 root         INFO     Waiting for bbf0f3e8-4512-4d0e-98c1-a7630da04f50 to complete, 0 pending, 0 arrivals\n",
      "10-10-2022 13:36:41 root         INFO     Waiting for bbf0f3e8-4512-4d0e-98c1-a7630da04f50 to complete, 0 pending, 0 arrivals\n",
      "10-10-2022 13:36:45 ResourceWatchDog INFO     Fetching pod information of cluster...\n",
      "10-10-2022 13:36:45 ResourceWatchDog INFO     Fetching pod information of cluster...\n",
      "10-10-2022 13:36:46 root         INFO     Waiting for bbf0f3e8-4512-4d0e-98c1-a7630da04f50 to complete, 0 pending, 0 arrivals\n",
      "10-10-2022 13:36:51 root         INFO     Waiting for bbf0f3e8-4512-4d0e-98c1-a7630da04f50 to complete, 0 pending, 0 arrivals\n",
      "10-10-2022 13:36:55 ResourceWatchDog INFO     Fetching pod information of cluster...\n",
      "10-10-2022 13:36:56 root         INFO     Waiting for bbf0f3e8-4512-4d0e-98c1-a7630da04f50 to complete, 0 pending, 0 arrivals\n",
      "10-10-2022 13:37:01 root         INFO     Waiting for bbf0f3e8-4512-4d0e-98c1-a7630da04f50 to complete, 0 pending, 0 arrivals\n",
      "10-10-2022 13:37:06 ResourceWatchDog INFO     Fetching pod information of cluster...\n",
      "10-10-2022 13:37:06 root         INFO     Waiting for bbf0f3e8-4512-4d0e-98c1-a7630da04f50 to complete, 0 pending, 0 arrivals\n",
      "10-10-2022 13:37:11 root         INFO     Waiting for bbf0f3e8-4512-4d0e-98c1-a7630da04f50 to complete, 0 pending, 0 arrivals\n",
      "10-10-2022 13:37:16 ResourceWatchDog INFO     Fetching pod information of cluster...\n",
      "10-10-2022 13:37:16 root         INFO     Waiting for bbf0f3e8-4512-4d0e-98c1-a7630da04f50 to complete, 0 pending, 0 arrivals\n",
      "10-10-2022 13:37:21 root         INFO     Waiting for bbf0f3e8-4512-4d0e-98c1-a7630da04f50 to complete, 0 pending, 0 arrivals\n",
      "10-10-2022 13:37:26 root         INFO     Waiting for bbf0f3e8-4512-4d0e-98c1-a7630da04f50 to complete, 0 pending, 0 arrivals\n",
      "10-10-2022 13:37:26 ResourceWatchDog INFO     Fetching pod information of cluster...\n",
      "10-10-2022 13:37:31 root         INFO     Waiting for bbf0f3e8-4512-4d0e-98c1-a7630da04f50 to complete, 0 pending, 0 arrivals\n",
      "10-10-2022 13:37:36 root         INFO     Waiting for bbf0f3e8-4512-4d0e-98c1-a7630da04f50 to complete, 0 pending, 0 arrivals\n",
      "10-10-2022 13:37:36 ResourceWatchDog INFO     Fetching pod information of cluster...\n"
     ]
    },
    {
     "name": "stdout",
     "output_type": "stream",
     "text": [
      "10-10-2022 13:37:41 root         INFO     Waiting for bbf0f3e8-4512-4d0e-98c1-a7630da04f50 to complete, 0 pending, 0 arrivals\n",
      "10-10-2022 13:37:46 root         INFO     Waiting for bbf0f3e8-4512-4d0e-98c1-a7630da04f50 to complete, 0 pending, 0 arrivals\n",
      "10-10-2022 13:37:46 ResourceWatchDog INFO     Fetching pod information of cluster...\n",
      "10-10-2022 13:37:46 ResourceWatchDog INFO     Fetching pod information of cluster...\n",
      "10-10-2022 13:37:51 root         INFO     Waiting for bbf0f3e8-4512-4d0e-98c1-a7630da04f50 to complete, 0 pending, 0 arrivals\n",
      "10-10-2022 13:37:56 root         INFO     Waiting for bbf0f3e8-4512-4d0e-98c1-a7630da04f50 to complete, 0 pending, 0 arrivals\n",
      "10-10-2022 13:37:56 ResourceWatchDog INFO     Fetching pod information of cluster...\n",
      "10-10-2022 13:38:01 root         INFO     Waiting for bbf0f3e8-4512-4d0e-98c1-a7630da04f50 to complete, 0 pending, 0 arrivals\n",
      "10-10-2022 13:38:06 root         INFO     Waiting for bbf0f3e8-4512-4d0e-98c1-a7630da04f50 to complete, 0 pending, 0 arrivals\n",
      "10-10-2022 13:38:07 ResourceWatchDog INFO     Fetching pod information of cluster...\n",
      "10-10-2022 13:38:11 root         INFO     Waiting for bbf0f3e8-4512-4d0e-98c1-a7630da04f50 to complete, 0 pending, 0 arrivals\n",
      "10-10-2022 13:38:16 root         INFO     Waiting for bbf0f3e8-4512-4d0e-98c1-a7630da04f50 to complete, 0 pending, 0 arrivals\n",
      "10-10-2022 13:38:17 ResourceWatchDog INFO     Fetching pod information of cluster...\n",
      "10-10-2022 13:38:21 root         INFO     Waiting for bbf0f3e8-4512-4d0e-98c1-a7630da04f50 to complete, 0 pending, 0 arrivals\n",
      "10-10-2022 13:38:26 root         INFO     Waiting for bbf0f3e8-4512-4d0e-98c1-a7630da04f50 to complete, 0 pending, 0 arrivals\n",
      "10-10-2022 13:38:27 ResourceWatchDog INFO     Fetching pod information of cluster...\n",
      "10-10-2022 13:38:31 root         INFO     Waiting for bbf0f3e8-4512-4d0e-98c1-a7630da04f50 to complete, 0 pending, 0 arrivals\n",
      "10-10-2022 13:38:36 root         INFO     Waiting for bbf0f3e8-4512-4d0e-98c1-a7630da04f50 to complete, 0 pending, 0 arrivals\n",
      "10-10-2022 13:38:37 ResourceWatchDog INFO     Fetching pod information of cluster...\n",
      "10-10-2022 13:38:41 root         INFO     Waiting for bbf0f3e8-4512-4d0e-98c1-a7630da04f50 to complete, 0 pending, 0 arrivals\n",
      "10-10-2022 13:38:46 root         INFO     Waiting for bbf0f3e8-4512-4d0e-98c1-a7630da04f50 to complete, 0 pending, 0 arrivals\n",
      "10-10-2022 13:38:47 ResourceWatchDog INFO     Fetching pod information of cluster...\n",
      "10-10-2022 13:38:47 ResourceWatchDog INFO     Fetching pod information of cluster...\n",
      "10-10-2022 13:38:51 root         INFO     Waiting for bbf0f3e8-4512-4d0e-98c1-a7630da04f50 to complete, 0 pending, 0 arrivals\n",
      "10-10-2022 13:38:56 root         INFO     Waiting for bbf0f3e8-4512-4d0e-98c1-a7630da04f50 to complete, 0 pending, 0 arrivals\n",
      "10-10-2022 13:38:57 ResourceWatchDog INFO     Fetching pod information of cluster...\n",
      "10-10-2022 13:39:01 root         INFO     Waiting for bbf0f3e8-4512-4d0e-98c1-a7630da04f50 to complete, 0 pending, 0 arrivals\n",
      "10-10-2022 13:39:06 root         INFO     Waiting for bbf0f3e8-4512-4d0e-98c1-a7630da04f50 to complete, 0 pending, 0 arrivals\n",
      "10-10-2022 13:39:08 ResourceWatchDog INFO     Fetching pod information of cluster...\n",
      "10-10-2022 13:39:11 root         INFO     Waiting for bbf0f3e8-4512-4d0e-98c1-a7630da04f50 to complete, 0 pending, 0 arrivals\n",
      "10-10-2022 13:39:16 root         INFO     Waiting for bbf0f3e8-4512-4d0e-98c1-a7630da04f50 to complete, 0 pending, 0 arrivals\n",
      "10-10-2022 13:39:18 ResourceWatchDog INFO     Fetching pod information of cluster...\n",
      "10-10-2022 13:39:22 root         INFO     Waiting for bbf0f3e8-4512-4d0e-98c1-a7630da04f50 to complete, 0 pending, 0 arrivals\n",
      "10-10-2022 13:39:27 root         INFO     Waiting for bbf0f3e8-4512-4d0e-98c1-a7630da04f50 to complete, 0 pending, 0 arrivals\n",
      "10-10-2022 13:39:28 ResourceWatchDog INFO     Fetching pod information of cluster...\n",
      "10-10-2022 13:39:32 root         INFO     Waiting for bbf0f3e8-4512-4d0e-98c1-a7630da04f50 to complete, 0 pending, 0 arrivals\n",
      "10-10-2022 13:39:37 root         INFO     Waiting for bbf0f3e8-4512-4d0e-98c1-a7630da04f50 to complete, 0 pending, 0 arrivals\n",
      "10-10-2022 13:39:38 ResourceWatchDog INFO     Fetching pod information of cluster...\n",
      "10-10-2022 13:39:42 root         INFO     Waiting for bbf0f3e8-4512-4d0e-98c1-a7630da04f50 to complete, 0 pending, 0 arrivals\n",
      "10-10-2022 13:39:47 root         INFO     Waiting for bbf0f3e8-4512-4d0e-98c1-a7630da04f50 to complete, 0 pending, 0 arrivals\n",
      "10-10-2022 13:39:48 ResourceWatchDog INFO     Fetching pod information of cluster...\n",
      "10-10-2022 13:39:48 ResourceWatchDog INFO     Fetching pod information of cluster...\n",
      "10-10-2022 13:39:52 root         INFO     Waiting for bbf0f3e8-4512-4d0e-98c1-a7630da04f50 to complete, 0 pending, 0 arrivals\n",
      "10-10-2022 13:39:57 root         INFO     Waiting for bbf0f3e8-4512-4d0e-98c1-a7630da04f50 to complete, 0 pending, 0 arrivals\n",
      "10-10-2022 13:39:59 ResourceWatchDog INFO     Fetching pod information of cluster...\n",
      "10-10-2022 13:40:02 root         INFO     Waiting for bbf0f3e8-4512-4d0e-98c1-a7630da04f50 to complete, 0 pending, 0 arrivals\n",
      "10-10-2022 13:40:07 root         INFO     Waiting for bbf0f3e8-4512-4d0e-98c1-a7630da04f50 to complete, 0 pending, 0 arrivals\n",
      "10-10-2022 13:40:09 ResourceWatchDog INFO     Fetching pod information of cluster...\n",
      "10-10-2022 13:40:12 root         INFO     Waiting for bbf0f3e8-4512-4d0e-98c1-a7630da04f50 to complete, 0 pending, 0 arrivals\n",
      "10-10-2022 13:40:17 root         INFO     Waiting for bbf0f3e8-4512-4d0e-98c1-a7630da04f50 to complete, 0 pending, 0 arrivals\n",
      "10-10-2022 13:40:19 ResourceWatchDog INFO     Fetching pod information of cluster...\n",
      "10-10-2022 13:40:22 root         INFO     Waiting for bbf0f3e8-4512-4d0e-98c1-a7630da04f50 to complete, 0 pending, 0 arrivals\n",
      "10-10-2022 13:40:27 root         INFO     Waiting for bbf0f3e8-4512-4d0e-98c1-a7630da04f50 to complete, 0 pending, 0 arrivals\n",
      "10-10-2022 13:40:29 ResourceWatchDog INFO     Fetching pod information of cluster...\n",
      "10-10-2022 13:40:32 root         INFO     Waiting for bbf0f3e8-4512-4d0e-98c1-a7630da04f50 to complete, 0 pending, 0 arrivals\n",
      "10-10-2022 13:40:37 root         INFO     Waiting for bbf0f3e8-4512-4d0e-98c1-a7630da04f50 to complete, 0 pending, 0 arrivals\n",
      "10-10-2022 13:40:39 ResourceWatchDog INFO     Fetching pod information of cluster...\n",
      "10-10-2022 13:40:42 root         INFO     Waiting for bbf0f3e8-4512-4d0e-98c1-a7630da04f50 to complete, 0 pending, 0 arrivals\n",
      "10-10-2022 13:40:47 root         INFO     Waiting for bbf0f3e8-4512-4d0e-98c1-a7630da04f50 to complete, 0 pending, 0 arrivals\n",
      "10-10-2022 13:40:49 ResourceWatchDog INFO     Fetching pod information of cluster...\n",
      "10-10-2022 13:40:49 ResourceWatchDog INFO     Fetching pod information of cluster...\n",
      "10-10-2022 13:40:52 root         INFO     Waiting for bbf0f3e8-4512-4d0e-98c1-a7630da04f50 to complete, 0 pending, 0 arrivals\n",
      "10-10-2022 13:40:57 root         INFO     Waiting for bbf0f3e8-4512-4d0e-98c1-a7630da04f50 to complete, 0 pending, 0 arrivals\n",
      "10-10-2022 13:41:00 ResourceWatchDog INFO     Fetching pod information of cluster...\n",
      "10-10-2022 13:41:02 root         INFO     Waiting for bbf0f3e8-4512-4d0e-98c1-a7630da04f50 to complete, 0 pending, 0 arrivals\n",
      "10-10-2022 13:41:07 root         INFO     Waiting for bbf0f3e8-4512-4d0e-98c1-a7630da04f50 to complete, 0 pending, 0 arrivals\n",
      "10-10-2022 13:41:10 ResourceWatchDog INFO     Fetching pod information of cluster...\n",
      "10-10-2022 13:41:12 root         INFO     Waiting for bbf0f3e8-4512-4d0e-98c1-a7630da04f50 to complete, 0 pending, 0 arrivals\n",
      "10-10-2022 13:41:17 root         INFO     Waiting for bbf0f3e8-4512-4d0e-98c1-a7630da04f50 to complete, 0 pending, 0 arrivals\n",
      "10-10-2022 13:41:20 ResourceWatchDog INFO     Fetching pod information of cluster...\n",
      "10-10-2022 13:41:22 root         INFO     Waiting for bbf0f3e8-4512-4d0e-98c1-a7630da04f50 to complete, 0 pending, 0 arrivals\n",
      "10-10-2022 13:41:27 root         INFO     Waiting for bbf0f3e8-4512-4d0e-98c1-a7630da04f50 to complete, 0 pending, 0 arrivals\n",
      "10-10-2022 13:41:30 ResourceWatchDog INFO     Fetching pod information of cluster...\n",
      "10-10-2022 13:41:32 root         INFO     Waiting for bbf0f3e8-4512-4d0e-98c1-a7630da04f50 to complete, 0 pending, 0 arrivals\n"
     ]
    }
   ],
   "source": [
    "# To get logs from the orchestrator\n",
    "kubectl logs -n test fl-server"
   ]
  },
  {
   "cell_type": "code",
   "execution_count": 7,
   "metadata": {
    "pycharm": {
     "name": "#%%\n"
    }
   },
   "outputs": [
    {
     "name": "stdout",
     "output_type": "stream",
     "text": [
      "W1010 15:46:09.572857   18093 gcp.go:119] WARNING: the gcp auth plugin is deprecated in v1.22+, unavailable in v1.26+; use gcloud instead.\n",
      "To learn more, consult https://cloud.google.com/blog/products/containers-kubernetes/kubectl-auth-changes-in-gke\n",
      "Defaulted container \"pytorch\" out of: pytorch, init-pytorch (init)\n",
      "10-10-2022 13:32:55 root         INFO     Loading file config/configuration.fltk.json\n",
      "10-10-2022 13:32:55 root         INFO     Starting in client mode\n",
      "10-10-2022 13:32:55 root         INFO     Starting with host=trainjob-bbf0f3e8-4512-4d0e-98c1-a7630da04f50-master-0 and port=23456\n",
      "10-10-2022 13:32:55 root         INFO     Initializing backend for training process: gloo\n",
      "10-10-2022 13:32:55 torch.distributed.distributed_c10d INFO     Added key: store_based_barrier_key:1 to store for rank: 1\n",
      "10-10-2022 13:32:55 torch.distributed.distributed_c10d INFO     Rank 1: Completed store-based barrier for key:store_based_barrier_key:1 with 2 nodes.\n",
      "10-10-2022 13:32:55 root         INFO     Starting Creating client with 1\n",
      "10-10-2022 13:32:55 Client-1-bbf0f3e8-4512-4d0e-98c1-a7630da04f50 INFO     Initializing learning client\n",
      "10-10-2022 13:32:55 root         INFO     Getting net: Nets.fashion_mnist_cnn\n",
      "10-10-2022 13:32:55 Client-1-bbf0f3e8-4512-4d0e-98c1-a7630da04f50 INFO     Preparing learner model with distributed=True\n",
      "10-10-2022 13:32:56 Client-1-bbf0f3e8-4512-4d0e-98c1-a7630da04f50 INFO     [1,     0] loss: 0.046\n",
      "10-10-2022 13:32:56 torch.nn.parallel.distributed INFO     Reducer buckets have been rebuilt in this iteration.\n",
      "10-10-2022 13:33:18 Client-1-bbf0f3e8-4512-4d0e-98c1-a7630da04f50 INFO     [1,    50] loss: 0.754\n",
      "10-10-2022 13:33:41 Client-1-bbf0f3e8-4512-4d0e-98c1-a7630da04f50 INFO     [1,   100] loss: 0.467\n",
      "10-10-2022 13:34:04 Client-1-bbf0f3e8-4512-4d0e-98c1-a7630da04f50 INFO     [1,   150] loss: 0.409\n",
      "10-10-2022 13:34:27 Client-1-bbf0f3e8-4512-4d0e-98c1-a7630da04f50 INFO     [1,   200] loss: 0.386\n",
      "10-10-2022 13:34:52 Client-1-bbf0f3e8-4512-4d0e-98c1-a7630da04f50 INFO     [2,     0] loss: 0.009\n",
      "10-10-2022 13:35:15 Client-1-bbf0f3e8-4512-4d0e-98c1-a7630da04f50 INFO     [2,    50] loss: 0.347\n",
      "10-10-2022 13:35:37 Client-1-bbf0f3e8-4512-4d0e-98c1-a7630da04f50 INFO     [2,   100] loss: 0.325\n",
      "10-10-2022 13:36:00 Client-1-bbf0f3e8-4512-4d0e-98c1-a7630da04f50 INFO     [2,   150] loss: 0.317\n",
      "10-10-2022 13:36:22 Client-1-bbf0f3e8-4512-4d0e-98c1-a7630da04f50 INFO     [2,   200] loss: 0.306\n",
      "10-10-2022 13:36:47 Client-1-bbf0f3e8-4512-4d0e-98c1-a7630da04f50 INFO     [3,     0] loss: 0.007\n",
      "10-10-2022 13:37:09 Client-1-bbf0f3e8-4512-4d0e-98c1-a7630da04f50 INFO     [3,    50] loss: 0.293\n",
      "10-10-2022 13:37:31 Client-1-bbf0f3e8-4512-4d0e-98c1-a7630da04f50 INFO     [3,   100] loss: 0.275\n",
      "10-10-2022 13:37:54 Client-1-bbf0f3e8-4512-4d0e-98c1-a7630da04f50 INFO     [3,   150] loss: 0.276\n",
      "10-10-2022 13:38:16 Client-1-bbf0f3e8-4512-4d0e-98c1-a7630da04f50 INFO     [3,   200] loss: 0.269\n",
      "10-10-2022 13:38:40 Client-1-bbf0f3e8-4512-4d0e-98c1-a7630da04f50 INFO     [4,     0] loss: 0.006\n",
      "10-10-2022 13:39:03 Client-1-bbf0f3e8-4512-4d0e-98c1-a7630da04f50 INFO     [4,    50] loss: 0.263\n",
      "10-10-2022 13:39:24 Client-1-bbf0f3e8-4512-4d0e-98c1-a7630da04f50 INFO     [4,   100] loss: 0.246\n",
      "10-10-2022 13:39:47 Client-1-bbf0f3e8-4512-4d0e-98c1-a7630da04f50 INFO     [4,   150] loss: 0.249\n",
      "10-10-2022 13:40:09 Client-1-bbf0f3e8-4512-4d0e-98c1-a7630da04f50 INFO     [4,   200] loss: 0.243\n",
      "10-10-2022 13:40:33 Client-1-bbf0f3e8-4512-4d0e-98c1-a7630da04f50 INFO     [5,     0] loss: 0.005\n",
      "10-10-2022 13:40:55 Client-1-bbf0f3e8-4512-4d0e-98c1-a7630da04f50 INFO     [5,    50] loss: 0.242\n",
      "10-10-2022 13:41:19 Client-1-bbf0f3e8-4512-4d0e-98c1-a7630da04f50 INFO     [5,   100] loss: 0.227\n",
      "10-10-2022 13:41:42 Client-1-bbf0f3e8-4512-4d0e-98c1-a7630da04f50 INFO     [5,   150] loss: 0.230\n",
      "10-10-2022 13:42:05 Client-1-bbf0f3e8-4512-4d0e-98c1-a7630da04f50 INFO     [5,   200] loss: 0.223\n",
      "10-10-2022 13:42:29 Client-1-bbf0f3e8-4512-4d0e-98c1-a7630da04f50 INFO     [6,     0] loss: 0.005\n",
      "10-10-2022 13:42:52 Client-1-bbf0f3e8-4512-4d0e-98c1-a7630da04f50 INFO     [6,    50] loss: 0.222\n",
      "10-10-2022 13:43:15 Client-1-bbf0f3e8-4512-4d0e-98c1-a7630da04f50 INFO     [6,   100] loss: 0.213\n",
      "10-10-2022 13:43:37 Client-1-bbf0f3e8-4512-4d0e-98c1-a7630da04f50 INFO     [6,   150] loss: 0.215\n",
      "10-10-2022 13:43:59 Client-1-bbf0f3e8-4512-4d0e-98c1-a7630da04f50 INFO     [6,   200] loss: 0.206\n",
      "10-10-2022 13:44:24 Client-1-bbf0f3e8-4512-4d0e-98c1-a7630da04f50 INFO     [7,     0] loss: 0.004\n",
      "10-10-2022 13:44:47 Client-1-bbf0f3e8-4512-4d0e-98c1-a7630da04f50 INFO     [7,    50] loss: 0.207\n",
      "10-10-2022 13:45:09 Client-1-bbf0f3e8-4512-4d0e-98c1-a7630da04f50 INFO     [7,   100] loss: 0.198\n",
      "10-10-2022 13:45:32 Client-1-bbf0f3e8-4512-4d0e-98c1-a7630da04f50 INFO     [7,   150] loss: 0.200\n",
      "10-10-2022 13:45:54 Client-1-bbf0f3e8-4512-4d0e-98c1-a7630da04f50 INFO     [7,   200] loss: 0.193\n"
     ]
    }
   ],
   "source": [
    "# To get logs from learners (example)\n",
    "# kubectl logs -n test trainjob-bbf0f3e8-4512-4d0e-98c1-a7630da04f50-master-0\n",
    "\n",
    "# To get logs from learners (federated learning)\n",
    "kubectl logs -n test trainjob-bbf0f3e8-4512-4d0e-98c1-a7630da04f50-worker-0"
   ]
  },
  {
   "cell_type": "markdown",
   "metadata": {},
   "source": [
    "## Copy experiment results from the extractor\n",
    "\n",
    "Extractor holds the experiment results in the format that can be processedby TensorBoard.\n",
    "In order to download it to the local machine, execute:"
   ]
  },
  {
   "cell_type": "code",
   "execution_count": 9,
   "metadata": {},
   "outputs": [
    {
     "name": "stdout",
     "output_type": "stream",
     "text": [
      "W1010 15:47:02.808234   18139 gcp.go:119] WARNING: the gcp auth plugin is deprecated in v1.22+, unavailable in v1.26+; use gcloud instead.\n",
      "To learn more, consult https://cloud.google.com/blog/products/containers-kubernetes/kubectl-auth-changes-in-gke\n",
      "W1010 15:47:03.364402   18159 gcp.go:119] WARNING: the gcp auth plugin is deprecated in v1.22+, unavailable in v1.26+; use gcloud instead.\n",
      "To learn more, consult https://cloud.google.com/blog/products/containers-kubernetes/kubectl-auth-changes-in-gke\n",
      "tar: Removing leading `/' from member names\n"
     ]
    }
   ],
   "source": [
    "EXTRACTOR_POD_NAME=$(kubectl get pods -n test -l \"app.kubernetes.io/name=fltk.extractor\" -o jsonpath=\"{.items[0].metadata.name}\")\n",
    "\n",
    "kubectl cp -n test $EXTRACTOR_POD_NAME:/opt/federation-lab/logging ./logging"
   ]
  },
  {
   "cell_type": "markdown",
   "metadata": {},
   "source": [
    "# Cleanup"
   ]
  },
  {
   "cell_type": "markdown",
   "metadata": {},
   "source": [
    "## Removing orchestrator"
   ]
  },
  {
   "cell_type": "code",
   "execution_count": 8,
   "metadata": {},
   "outputs": [
    {
     "name": "stdout",
     "output_type": "stream",
     "text": [
      "W1010 15:46:49.401752   18113 gcp.go:120] WARNING: the gcp auth plugin is deprecated in v1.22+, unavailable in v1.25+; use gcloud instead.\n",
      "To learn more, consult https://cloud.google.com/blog/products/containers-kubernetes/kubectl-auth-changes-in-gke\n",
      "release \"experiment-orchestrator\" uninstalled\n"
     ]
    }
   ],
   "source": [
    "helm uninstall -n test experiment-orchestrator"
   ]
  },
  {
   "cell_type": "markdown",
   "metadata": {},
   "source": [
    "## Removing extractor\n",
    "\n",
    "IMPORTANT: Removing extractor chart will result in deleting the already collected experiment results, stored in the NFS!"
   ]
  },
  {
   "cell_type": "code",
   "execution_count": 11,
   "metadata": {},
   "outputs": [
    {
     "name": "stdout",
     "output_type": "stream",
     "text": [
      "W1010 15:58:34.710213   23525 gcp.go:120] WARNING: the gcp auth plugin is deprecated in v1.22+, unavailable in v1.25+; use gcloud instead.\n",
      "To learn more, consult https://cloud.google.com/blog/products/containers-kubernetes/kubectl-auth-changes-in-gke\n",
      "release \"extractor\" uninstalled\n"
     ]
    }
   ],
   "source": [
    "helm uninstall extractor -n test"
   ]
  },
  {
   "cell_type": "markdown",
   "metadata": {
    "pycharm": {
     "name": "#%% md\n"
    }
   },
   "source": [
    "## Wrapping up\n",
    "\n",
    "To scale down the cluster nodepools, run the cell below. This will scale the node pools down and remove all the experiments deployed (on the cluster).\n",
    "\n",
    "1. Experiments cannot be restarted.\n",
    "2. Experiment logs will not persist deletion.\n"
   ]
  },
  {
   "cell_type": "code",
   "execution_count": 12,
   "metadata": {
    "pycharm": {
     "name": "#%%\n"
    }
   },
   "outputs": [
    {
     "name": "stdout",
     "output_type": "stream",
     "text": [
      "W1010 15:58:46.336970   23558 gcp.go:119] WARNING: the gcp auth plugin is deprecated in v1.22+, unavailable in v1.26+; use gcloud instead.\n",
      "To learn more, consult https://cloud.google.com/blog/products/containers-kubernetes/kubectl-auth-changes-in-gke\n",
      "pytorchjob.kubeflow.org \"trainjob-bbf0f3e8-4512-4d0e-98c1-a7630da04f50\" deleted\n",
      "Resizing fltk-testbed-cluster...done.                                          \n",
      "Updated [https://container.googleapis.com/v1/projects/fltk-flint/zones/us-central1-c/clusters/fltk-testbed-cluster].\n",
      "Resizing fltk-testbed-cluster...done.                                          \n",
      "Updated [https://container.googleapis.com/v1/projects/fltk-flint/zones/us-central1-c/clusters/fltk-testbed-cluster].\n"
     ]
    }
   ],
   "source": [
    "# This will remove all information and logs as well.\n",
    "kubectl delete pytorchjobs.kubeflow.org --all-namespaces --all\n",
    "\n",
    "gcloud container clusters resize $CLUSTER_NAME --node-pool $DEFAULT_POOL \\\n",
    "    --num-nodes 0 --region $REGION --quiet\n",
    "\n",
    "gcloud container clusters resize $CLUSTER_NAME --node-pool $EXPERIMENT_POOL \\\n",
    "    --num-nodes 0 --region $REGION --quiet"
   ]
  },
  {
   "cell_type": "code",
   "execution_count": null,
   "metadata": {},
   "outputs": [],
   "source": []
  }
 ],
 "metadata": {
  "kernelspec": {
   "display_name": "Bash",
   "language": "bash",
   "name": "bash"
  },
  "language_info": {
   "codemirror_mode": "shell",
   "file_extension": ".sh",
   "mimetype": "text/x-sh",
   "name": "bash"
  },
  "title": "Experiment deployment"
 },
 "nbformat": 4,
 "nbformat_minor": 1
}
